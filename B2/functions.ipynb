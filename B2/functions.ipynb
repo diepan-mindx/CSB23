{
 "cells": [
  {
   "cell_type": "markdown",
   "id": "081bba07",
   "metadata": {},
   "source": [
    "- Khai báo hàm: **def**\n",
    "- Khi khai báo, trong ngoặc tròn (tham số/ parameters)\n",
    "- Nếu gọi hàm để chạy, nhập giá trị cho tham số => (đối số/ arguments)\n",
    "- **return**: trả về giá trị cụ thể"
   ]
  },
  {
   "cell_type": "code",
   "execution_count": null,
   "id": "c3df0a3c",
   "metadata": {},
   "outputs": [
    {
     "data": {
      "text/plain": [
       "True"
      ]
     },
     "execution_count": 2,
     "metadata": {},
     "output_type": "execute_result"
    }
   ],
   "source": [
    "# hàm 1 dòng (lambda)\n",
    "# tạo hàm kiểm tra số lẻ\n",
    "def is_odd(n : int) -> bool:\n",
    "    return n % 2 != 0\n",
    "\n",
    "# CÚ PHÁP: lambda <params> : <code return>\n",
    "odd_value = lambda n : n % 2 != 0\n",
    "odd_value(15)"
   ]
  }
 ],
 "metadata": {
  "kernelspec": {
   "display_name": "Python 3",
   "language": "python",
   "name": "python3"
  },
  "language_info": {
   "codemirror_mode": {
    "name": "ipython",
    "version": 3
   },
   "file_extension": ".py",
   "mimetype": "text/x-python",
   "name": "python",
   "nbconvert_exporter": "python",
   "pygments_lexer": "ipython3",
   "version": "3.13.2"
  }
 },
 "nbformat": 4,
 "nbformat_minor": 5
}
