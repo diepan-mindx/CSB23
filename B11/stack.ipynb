{
 "cells": [
  {
   "cell_type": "markdown",
   "id": "ba0a9254",
   "metadata": {},
   "source": [
    "## Stack\n",
    "- **Ngăn xếp (Stack)** là một kiểu danh sách mà thao tác thêm và xóa phần tử được thực hiện ở **cuối danh sách**.\n",
    "- Stack là kiểu dữ liệu **Last In - First Out** (**LIFO**).\n",
    "- **Độ phức tạp** của các thao tác thêm/ xóa: **O(1)**"
   ]
  },
  {
   "cell_type": "markdown",
   "id": "928302d8",
   "metadata": {},
   "source": [
    "### Khai Báo: (sử dụng list để biểu diễn stack)"
   ]
  },
  {
   "cell_type": "code",
   "execution_count": 2,
   "id": "8b124df9",
   "metadata": {},
   "outputs": [],
   "source": [
    "stack = [54, 2, 45]"
   ]
  },
  {
   "cell_type": "markdown",
   "id": "05f7a605",
   "metadata": {},
   "source": [
    "### Peek: truy cập phần tử"
   ]
  },
  {
   "cell_type": "code",
   "execution_count": null,
   "id": "99509739",
   "metadata": {},
   "outputs": [],
   "source": [
    "stack[-1] # lay phan tu cuoi cung"
   ]
  },
  {
   "cell_type": "markdown",
   "id": "332d7941",
   "metadata": {},
   "source": [
    "### Push: thêm phần tử vào *đỉnh stack*"
   ]
  },
  {
   "cell_type": "code",
   "execution_count": null,
   "id": "ff22bd01",
   "metadata": {},
   "outputs": [],
   "source": [
    "stack.append(12)\n",
    "stack"
   ]
  },
  {
   "cell_type": "markdown",
   "id": "dbb5ce2e",
   "metadata": {},
   "source": [
    "### Pop: xóa + trả về phần tử ở *đỉnh stack*"
   ]
  },
  {
   "cell_type": "code",
   "execution_count": null,
   "id": "194385a9",
   "metadata": {},
   "outputs": [],
   "source": [
    "stack.pop()"
   ]
  },
  {
   "cell_type": "markdown",
   "id": "009032f7",
   "metadata": {},
   "source": [
    "### Kiểm tra rỗng"
   ]
  },
  {
   "cell_type": "code",
   "execution_count": null,
   "id": "8d03c56b",
   "metadata": {},
   "outputs": [],
   "source": [
    "if len(stack) == 0:\n",
    "    print(\"Empty\")\n",
    "else:\n",
    "    print(stack)"
   ]
  }
 ],
 "metadata": {
  "kernelspec": {
   "display_name": "Python 3",
   "language": "python",
   "name": "python3"
  },
  "language_info": {
   "codemirror_mode": {
    "name": "ipython",
    "version": 3
   },
   "file_extension": ".py",
   "mimetype": "text/x-python",
   "name": "python",
   "nbconvert_exporter": "python",
   "pygments_lexer": "ipython3",
   "version": "3.13.2"
  }
 },
 "nbformat": 4,
 "nbformat_minor": 5
}
