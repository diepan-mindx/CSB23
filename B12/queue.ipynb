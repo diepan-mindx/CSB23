{
 "cells": [
  {
   "cell_type": "markdown",
   "id": "81575c83",
   "metadata": {},
   "source": [
    "### QUEUE (hàng đợi)\n",
    "- Là danh sách **thêm** phần tử **ở cuối** và **loại bỏ** phần tử **ở đầu**\n",
    "> First in - First out (FIFO)"
   ]
  },
  {
   "cell_type": "code",
   "execution_count": 17,
   "id": "29b24f04",
   "metadata": {},
   "outputs": [],
   "source": [
    "# xây dựng class Queue\n",
    "class Queue:\n",
    "    # khai bao\n",
    "    def __init__(self):\n",
    "        self.__queue = []\n",
    "        \n",
    "    # them phan tu (them o cuoi)\n",
    "    def enqueue(self, new_item):\n",
    "        self.__queue.append(new_item)\n",
    "    \n",
    "    # xoa phan tu (xoa o dau -> tra ve phan tu da xoa)\n",
    "    def dequeue(self):\n",
    "        if not self.is_empty():\n",
    "            return self.__queue.pop(0)\n",
    "   \n",
    "    def is_empty(self):\n",
    "        return len(self.__queue) == 0\n",
    "    \n",
    "    @property\n",
    "    def size(self):\n",
    "        return int(len(self.__queue))\n",
    "    \n",
    "    @property\n",
    "    def front(self):\n",
    "        if not self.is_empty(): return self.__queue[0]\n",
    "        \n",
    "    def __str__(self):\n",
    "        return str(self.__queue)"
   ]
  },
  {
   "cell_type": "code",
   "execution_count": 19,
   "id": "d25c458d",
   "metadata": {},
   "outputs": [
    {
     "name": "stdout",
     "output_type": "stream",
     "text": [
      "[324, 76, 3, 60]\n",
      "324\n",
      "[76, 3, 60]\n",
      "4\n",
      "76\n",
      "76\n",
      "3\n",
      "60\n",
      "124\n",
      "True\n"
     ]
    }
   ],
   "source": [
    "# test drive\n",
    "queue = Queue()\n",
    "queue.enqueue(324)\n",
    "queue.enqueue(76)\n",
    "queue.enqueue(3)\n",
    "queue.enqueue(60)\n",
    "print(queue)\n",
    "print(queue.dequeue())\n",
    "print(queue)\n",
    "queue.enqueue(124)\n",
    "print(queue.size)\n",
    "print(queue.front)\n",
    "print(queue.dequeue())\n",
    "print(queue.dequeue())\n",
    "print(queue.dequeue())\n",
    "print(queue.dequeue())\n",
    "print(queue.is_empty())"
   ]
  }
 ],
 "metadata": {
  "kernelspec": {
   "display_name": "Python 3",
   "language": "python",
   "name": "python3"
  },
  "language_info": {
   "codemirror_mode": {
    "name": "ipython",
    "version": 3
   },
   "file_extension": ".py",
   "mimetype": "text/x-python",
   "name": "python",
   "nbconvert_exporter": "python",
   "pygments_lexer": "ipython3",
   "version": "3.13.2"
  }
 },
 "nbformat": 4,
 "nbformat_minor": 5
}
