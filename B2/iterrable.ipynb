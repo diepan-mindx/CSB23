{
 "cells": [
  {
   "cell_type": "markdown",
   "id": "8f50dccb",
   "metadata": {},
   "source": [
    "# Danh sách có index "
   ]
  },
  {
   "cell_type": "markdown",
   "id": "b1e60a9a",
   "metadata": {},
   "source": [
    "## List [ ]"
   ]
  },
  {
   "cell_type": "markdown",
   "id": "8902b235",
   "metadata": {},
   "source": [
    "- chứa các phần tử có thứ tự, có giá trị là bất kỳ kiểu dữ liệu nào\n",
    "- có thể truy cập giá trị của phần tử bằng chỉ số vị trí (index)\n",
    "- có kích thước thay đổi được khi thực thi chương trình"
   ]
  },
  {
   "cell_type": "code",
   "execution_count": null,
   "id": "8894269b",
   "metadata": {},
   "outputs": [],
   "source": [
    "# Khai báo phần tử\n",
    "l = [\"item1\", \"item2\", \"item3\"]\n",
    "# Truy cập phần tử với index \n",
    "print(l[-3] == l[0]) # true\n",
    "# Thêm phần tử\n",
    "l.append(\"item4\") # them vao vi tri cuoi\n",
    "l.insert(0, \"item0\") # them vao vi tri 0\n",
    "print(l)\n",
    "# Sửa phần tử \n",
    "l[4] = \"item2\" # sua phan tu o vi tri 4\n",
    "print(l)\n",
    "# Xóa phần tử\n",
    "l.remove(\"item2\") # xóa dựa trên giá trị [Nếu có phần tử giống nhau -> xóa item đầu tiên từ bên trái]\n",
    "print(l)\n",
    "del l[len(l)- 1] # xóa dựa trên index: xóa phần tử cuối cùng\n",
    "print(l)"
   ]
  },
  {
   "cell_type": "code",
   "execution_count": null,
   "id": "410e9277",
   "metadata": {},
   "outputs": [],
   "source": [
    "# Slice (cắt mảng) [start:stop:step]\n",
    "#start: vị trí bắt đầu (mặc định là 0)\n",
    "#stop: vị trí kết thúc (mặc định là phần tử cuối cùng trong danh sách)\n",
    "#step: bước nhảy (mặc định là 1)\n",
    "print(l[::-1])\n",
    "print(l[1:3:2]) # lấy phần tử từ vị trí 1 đến 2 (bước nhảy là 2)"
   ]
  },
  {
   "cell_type": "markdown",
   "id": "d5bab4b3",
   "metadata": {},
   "source": [
    "## Tuple ( )"
   ]
  },
  {
   "cell_type": "markdown",
   "id": "7f66fae8",
   "metadata": {},
   "source": [
    "- Có index \n",
    "- Không thể cập nhật giá trị phần tử\n",
    "- Những tính chất khác giống list"
   ]
  },
  {
   "cell_type": "markdown",
   "id": "a3f54d9a",
   "metadata": {},
   "source": [
    "## String \" \""
   ]
  },
  {
   "cell_type": "markdown",
   "id": "890cb2a9",
   "metadata": {},
   "source": [
    "- Có index -> có thể truy cập phần tử từ index\n",
    "- Không thể thay đổi một kí tự con trong chuỗi\n",
    "- Thêm/ cộng dồn chuỗi + cắt chuỗi => giống **list**  "
   ]
  },
  {
   "cell_type": "markdown",
   "id": "e2e456f7",
   "metadata": {},
   "source": [
    "# Danh sách không có thứ tự truy cập (index)"
   ]
  },
  {
   "cell_type": "markdown",
   "id": "e4fec3ce",
   "metadata": {},
   "source": [
    "## Set { }"
   ]
  },
  {
   "cell_type": "markdown",
   "id": "3d119ae8",
   "metadata": {},
   "source": [
    "- Nếu là **set rỗng** => phải viết **set()** vì nếu dùng *{} thì sẽ là dictionary*\n",
    "- Danh sách không trùng lặp (xóa phần tử trùng lặp tính từ bên phải)\n",
    "- Vì không có index -> không truy cập được một phần tử bất kì"
   ]
  },
  {
   "cell_type": "code",
   "execution_count": null,
   "id": "aa284cf3",
   "metadata": {},
   "outputs": [],
   "source": [
    "# khai báo\n",
    "set1 = {\"item1\", \"item2\", \"item3\"}\n",
    "\n",
    "# thêm phần tử \n",
    "set1.add(\"item3\") # thêm phần tử mới\n",
    "set1.update([\"item5\", \"item6\"]) # thêm nhiều phần tử mới\n",
    "print(set1)\n",
    "\n",
    "# tìm kiếm phần tử \n",
    "print(\"item1\" in set1) # kiểm tra phần tử có trong set hay không\n",
    "print(set1)\n",
    "\n",
    "# xóa phần tử\n",
    "set1.remove(\"item2\") # xóa phần tử nếu có (báo lỗi nếu không có)\n",
    "set1.discard(\"item3\") # xóa phần tử nếu có, nếu không có thì không làm gì cả\n",
    "print(set1)"
   ]
  }
 ],
 "metadata": {
  "kernelspec": {
   "display_name": "Python 3",
   "language": "python",
   "name": "python3"
  },
  "language_info": {
   "codemirror_mode": {
    "name": "ipython",
    "version": 3
   },
   "file_extension": ".py",
   "mimetype": "text/x-python",
   "name": "python",
   "nbconvert_exporter": "python",
   "pygments_lexer": "ipython3",
   "version": "3.13.2"
  }
 },
 "nbformat": 4,
 "nbformat_minor": 5
}
