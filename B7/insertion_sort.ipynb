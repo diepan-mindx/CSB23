{
 "cells": [
  {
   "cell_type": "markdown",
   "id": "a92cc3f6",
   "metadata": {},
   "source": [
    "- Thuật toán chèn O(n^2)\n",
    "- Input: mảng chưa sắp xếp\n",
    "- Output: mảng đã sắp xếp"
   ]
  },
  {
   "cell_type": "code",
   "execution_count": 6,
   "id": "85809a2a",
   "metadata": {},
   "outputs": [],
   "source": [
    "def insertion_sort(arr):\n",
    "    # duyet qua tung phan tu -> tim vi tri nho nhat\n",
    "    for index in range(1, len(arr)):\n",
    "        insert_index = index       \n",
    "        current_value = arr.pop(index) # xoa phan tu tai index\n",
    "        for j in range(index - 1, -1, -1):\n",
    "            if arr[j] > current_value:\n",
    "                insert_index = j\n",
    "        arr.insert(insert_index, current_value) # them lai phan tu vao vi tri moi \n",
    "    return arr"
   ]
  },
  {
   "cell_type": "code",
   "execution_count": 7,
   "id": "5ba4440a",
   "metadata": {},
   "outputs": [
    {
     "name": "stdout",
     "output_type": "stream",
     "text": [
      "[271, 904, 559, 370, 561, 966, 637, 835, 40, 131]\n",
      "[0, 1, 2, 3, 4, 5, 6, 7, 8, 9]\n",
      "Time: 20.1485 s\n"
     ]
    }
   ],
   "source": [
    "# test\n",
    "import random\n",
    "import timeit\n",
    "arr = random.sample(range(1000), 1000)\n",
    "print(arr[:10])\n",
    "exc_time = timeit.timeit(lambda: insertion_sort(arr), number=1000)\n",
    "print(insertion_sort(arr)[:10])\n",
    "print(f\"Time: {exc_time:.4f} s\")"
   ]
  }
 ],
 "metadata": {
  "kernelspec": {
   "display_name": "Python 3",
   "language": "python",
   "name": "python3"
  },
  "language_info": {
   "codemirror_mode": {
    "name": "ipython",
    "version": 3
   },
   "file_extension": ".py",
   "mimetype": "text/x-python",
   "name": "python",
   "nbconvert_exporter": "python",
   "pygments_lexer": "ipython3",
   "version": "3.13.2"
  }
 },
 "nbformat": 4,
 "nbformat_minor": 5
}
