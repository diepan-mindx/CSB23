{
 "cells": [
  {
   "cell_type": "markdown",
   "id": "a933b4f0",
   "metadata": {},
   "source": [
    "Duyệt qua từng phần tử trong danh sách -> kiểm tra giá trị -> return index\n",
    "<br> \n",
    "Không tìm thấy -> return -1"
   ]
  },
  {
   "cell_type": "code",
   "execution_count": null,
   "id": "1581b9ba",
   "metadata": {},
   "outputs": [],
   "source": [
    "def linear_search(arr, target):\n",
    "    # danh sach rong\n",
    "    if not arr: return -1\n",
    "    # duyet phan tu\n",
    "    for index, value in enumerate(arr):\n",
    "        # neu tim thay phan tu\n",
    "        if value == target: return index\n",
    "    #ket thuc vong for -> k tim thay\n",
    "    return -1 "
   ]
  },
  {
   "cell_type": "code",
   "execution_count": null,
   "id": "10719dd9",
   "metadata": {},
   "outputs": [
    {
     "name": "stdout",
     "output_type": "stream",
     "text": [
      "Bat dau chay ham -----------------------\n",
      "Ket thuc chay ham -----------------------\n",
      "Ket qua chay ham: 0\n",
      "Thoi gian thuc thi: 0.000004 giay\n",
      "Bat dau chay ham -----------------------\n",
      "Ket thuc chay ham -----------------------\n",
      "Ket qua chay ham: -1\n",
      "Thoi gian thuc thi: 0.000002 giay\n",
      "Bat dau chay ham -----------------------\n",
      "Ket thuc chay ham -----------------------\n",
      "Ket qua chay ham: -1\n",
      "Thoi gian thuc thi: 0.000000 giay\n"
     ]
    }
   ],
   "source": [
    "import sys\n",
    "import os\n",
    "# them duong dan cho thu muc running_time.py\n",
    "module_path = os.path.abspath(os.path.join(os.path.dirname('../running_time')))\n",
    "if module_path not in sys.path:\n",
    "    sys.path.append(module_path)\n",
    "\n",
    "from running_time import running_time\n",
    "\n",
    "# test\n",
    "arr = [100, 1000, 9, 21, 545, 323, 4544, 878, 767, 86, -1, -1009, 0]\n",
    "running_time(lambda: linear_search(arr, 100))\n",
    "running_time(lambda: linear_search(arr, -5555))\n",
    "running_time(lambda: linear_search([], 0))\n"
   ]
  }
 ],
 "metadata": {
  "kernelspec": {
   "display_name": "Python 3",
   "language": "python",
   "name": "python3"
  },
  "language_info": {
   "codemirror_mode": {
    "name": "ipython",
    "version": 3
   },
   "file_extension": ".py",
   "mimetype": "text/x-python",
   "name": "python",
   "nbconvert_exporter": "python",
   "pygments_lexer": "ipython3",
   "version": "3.13.2"
  }
 },
 "nbformat": 4,
 "nbformat_minor": 5
}
