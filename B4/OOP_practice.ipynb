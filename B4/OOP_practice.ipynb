{
 "cells": [
  {
   "cell_type": "markdown",
   "id": "80ded929",
   "metadata": {},
   "source": [
    "# Item:\n",
    "- propteries: [id, name, price]\n",
    "- methods: getter + setter, toString, compareTo"
   ]
  },
  {
   "cell_type": "code",
   "execution_count": 38,
   "id": "b9284a6c",
   "metadata": {},
   "outputs": [],
   "source": [
    "class Item:\n",
    "    def __init__(self, id: int, name: str, price: float):\n",
    "        self.__id = id\n",
    "        self.__name = name\n",
    "        self.__price = price\n",
    "\n",
    "    @property\n",
    "    def id(self) -> int:\n",
    "        return self.__id\n",
    "\n",
    "    @property\n",
    "    def name(self) -> str:\n",
    "        return self.__name\n",
    "\n",
    "    @property\n",
    "    def price(self) -> float:\n",
    "        return self.__price\n",
    "    \n",
    "    @id.setter\n",
    "    def id(self, id: int):\n",
    "        self.__id = id\n",
    "  \n",
    "    @name.setter\n",
    "    def name(self, name: str):\n",
    "        self.__name = name\n",
    "\n",
    "    @price.setter\n",
    "    def price(self, price: float):\n",
    "        self.__price = price  \n",
    "        \n",
    "    def __str__ (self):\n",
    "        return f\"Item(id={self.__id}, name='{self.__name}', price={self.__price})\" \n",
    "    \n",
    "    # so sanh 2 item \n",
    "    def __lt__ (self, other):\n",
    "        # kiem tra other la thuc the cua Item\n",
    "        if isinstance(other, Item):\n",
    "            return self.__id < other.__id\n",
    "        return NotImplemented\n",
    "    \n",
    "    def compare_to(self, other):\n",
    "        if not isinstance(other, Item):\n",
    "            raise ValueError(\"Can only compare with another Item!\")\n",
    "        return self.__id - other.__id"
   ]
  },
  {
   "cell_type": "markdown",
   "id": "dce5b37e",
   "metadata": {},
   "source": [
    "# Account: \n",
    "- properties: [id, name, score]\n",
    "- methods: getLoyaltyPromo() - 15%"
   ]
  },
  {
   "cell_type": "code",
   "execution_count": 39,
   "id": "1b8688ba",
   "metadata": {},
   "outputs": [],
   "source": [
    "class Account:\n",
    "    def __init__(self, id: int, name: str):\n",
    "        self.id = id\n",
    "        self.name = name\n",
    "        self.__score = 0\n",
    "        \n",
    "    @property\n",
    "    def score(self):\n",
    "        return self.__score\n",
    "    \n",
    "    def add_score(self, points: int):\n",
    "        self.__score += points\n",
    "\n",
    "    def getLoyaltyPromo(self):\n",
    "        \"\"\"15% discount if score is high (>= 100), else no discount\"\"\"\n",
    "        return 0.15 if self.__score >= 100 else 0.0\n",
    "\n",
    "    def __str__(self):\n",
    "        return f\"Account(id={self.id}, name='{self.name}', score={self.__score})\""
   ]
  },
  {
   "cell_type": "markdown",
   "id": "b4847813",
   "metadata": {},
   "source": [
    "# Order:\n",
    "- properties: [id, account, item_list (dict), voucher (str)]\n",
    "- methods: getVoucherPromo() - 10%, getBulkOrderPromo() - 10%, setScore(), printBill(), total()"
   ]
  },
  {
   "cell_type": "code",
   "execution_count": 40,
   "id": "48ddf0bd",
   "metadata": {},
   "outputs": [],
   "source": [
    "# Item Manager: class co chua danh sach mon hang duoc mua\n",
    "class ItemManager:\n",
    "    def __init__(self):\n",
    "        # khi khai bao cho mac dinh danh sach mon hang la 0\n",
    "        self.items = {}\n",
    "\n",
    "    def add_item(self, item):\n",
    "        # (item obj, qty)\n",
    "        if item.id not in self.items:\n",
    "            self.items[item.id] = (item, 1)\n",
    "        else:\n",
    "            new_qty = self.items[item.id][1] + 1\n",
    "            self.items[item.id] = (item, new_qty)\n",
    "\n",
    "    def edit_item(self, id, new_item: Item):\n",
    "        if id in self.items:\n",
    "            self.items[id] = (new_item, self.items[id][1])\n",
    "        else:\n",
    "            raise Exception(\"Item not found\")\n",
    "\n",
    "    def remove_item(self, id):\n",
    "        if id in self.items:\n",
    "            del self.items[id]\n",
    "        else:\n",
    "            raise Exception(\"Item not found\")\n",
    "\n",
    "    def get_price_by_qty(self, id):\n",
    "        if id in self.items:\n",
    "            return self.items[id][0].price * self.items[id][1]\n",
    "        else:\n",
    "            raise Exception(\"Item not found\")\n",
    "\n",
    "    def get_sum_qty(self):\n",
    "        return sum(item[1] for item in self.items.values())\n",
    "    \n",
    "    def get_total_of_list(self):\n",
    "        return sum(item[1] * item[0].price for item in self.items.values())\n",
    "    \n",
    "    def __str__(self):\n",
    "        return \"\\n\".join(\n",
    "            f\"{item} | Quantity: {qty}\" for item, qty in self.items.values()\n",
    "        )"
   ]
  },
  {
   "cell_type": "code",
   "execution_count": 41,
   "id": "25b5da54",
   "metadata": {},
   "outputs": [
    {
     "name": "stdout",
     "output_type": "stream",
     "text": [
      "Item(id=1, name='Milk', price=25000) | Quantity: 2\n",
      "Item(id=2, name='Bread', price=15000) | Quantity: 1\n",
      "Total quantity: 3\n",
      "Total price: 65000\n"
     ]
    }
   ],
   "source": [
    "item1 = Item(1, \"Milk\", 25000)\n",
    "item2 = Item(2, \"Bread\", 15000)\n",
    "\n",
    "manager = ItemManager()\n",
    "manager.add_item(item1)\n",
    "manager.add_item(item1)\n",
    "manager.add_item(item2)\n",
    "\n",
    "print(manager)\n",
    "print(\"Total quantity:\", manager.get_sum_qty())\n",
    "print(\"Total price:\", manager.get_total_of_list())"
   ]
  },
  {
   "cell_type": "code",
   "execution_count": 42,
   "id": "916102ce",
   "metadata": {},
   "outputs": [],
   "source": [
    "class Order:\n",
    "    def __init__(\n",
    "        self, account: Account, order_id: str, item_list: ItemManager, voucher: str = \"\"\n",
    "    ):\n",
    "        self.account = account\n",
    "        self.order_id = order_id\n",
    "        self.item_list = item_list\n",
    "        self.voucher = voucher\n",
    "\n",
    "    # tinh tong + voucher + account score + soluonglon\n",
    "    def calculate_total(self):\n",
    "        soluonglon = 0.1 if self.item_list.get_sum_qty() >= 10 else 0\n",
    "        khachhangthanthiet = self.account.getLoyaltyPromo()\n",
    "        voucher = 0.1 if self.voucher != \"\" else 0\n",
    "        tong = self.item_list.get_total_of_list() * (\n",
    "            1 - soluonglon - khachhangthanthiet - voucher\n",
    "        )\n",
    "        self.__set_new_score(tong)\n",
    "        return tong\n",
    "\n",
    "    def __set_new_score(self, bill_total):\n",
    "        new_point = int(bill_total * 0.1)\n",
    "        self.account.add_score(new_point)\n",
    "\n",
    "    # in bill (luu vao file txt: bill_<order_id>.txt)\n",
    "    def printBill(self):\n",
    "        total_cost = self.calculate_total()\n",
    "\n",
    "        with open(f\"bill_{self.order_id}.txt\", \"w\") as file:\n",
    "            file.write(f\"Bill ID: {self.order_id}\\n\")\n",
    "            file.write(f\"Voucher: {self.voucher}\\n\")\n",
    "            file.write(f\"Loyalty Discount: {self.account.getLoyaltyPromo() * 100}%\\n\")\n",
    "            file.write(\n",
    "                f\"Bulk Order Discount: {0.1 if self.item_list.get_sum_qty() >= 10 else 0  * 100}%\\n\"\n",
    "            )\n",
    "            file.write(f\"Total (after discounts): ${total_cost:.2f}\\n\")\n",
    "            file.write(f\"Score (after order): {self.account.score}\\n\")\n",
    "            file.write(\"\\nItems:\\n\")\n",
    "            file.writelines(self.item_list.__str__())\n",
    "        print(\"Done!\")"
   ]
  },
  {
   "cell_type": "code",
   "execution_count": 43,
   "id": "525ad566",
   "metadata": {},
   "outputs": [
    {
     "name": "stdout",
     "output_type": "stream",
     "text": [
      "Done!\n",
      "Done!\n"
     ]
    }
   ],
   "source": [
    "acc1 = Account(1, \"Diep\")\n",
    "acc2 = Account(2, \"Nguyen\")\n",
    "\n",
    "ord1 = Order(account=acc1, order_id=\"001\", item_list=manager, voucher=\"ABC\")\n",
    "ord2 = Order(account=acc1, order_id=\"002\", item_list=manager, voucher=\"\")\n",
    "ord1.printBill()\n",
    "ord2.printBill()"
   ]
  }
 ],
 "metadata": {
  "kernelspec": {
   "display_name": "Python 3",
   "language": "python",
   "name": "python3"
  },
  "language_info": {
   "codemirror_mode": {
    "name": "ipython",
    "version": 3
   },
   "file_extension": ".py",
   "mimetype": "text/x-python",
   "name": "python",
   "nbconvert_exporter": "python",
   "pygments_lexer": "ipython3",
   "version": "3.13.2"
  }
 },
 "nbformat": 4,
 "nbformat_minor": 5
}
