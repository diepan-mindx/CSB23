{
 "cells": [
  {
   "cell_type": "markdown",
   "id": "20fd3aa1",
   "metadata": {},
   "source": [
    "# Cấu trúc tuần tự"
   ]
  },
  {
   "cell_type": "markdown",
   "id": "ca5450b4",
   "metadata": {},
   "source": [
    "- Chạy code từ dòng trên xuống dòng dưới\n",
    "- Nếu dòng trên sai -> lập tức dừng các dòng lệnh dưới"
   ]
  },
  {
   "cell_type": "code",
   "execution_count": null,
   "id": "7c57cc82",
   "metadata": {},
   "outputs": [],
   "source": [
    "print(1)\n",
    "print(int(\"abc\")) # vì dòng này sai -> không chạy tiếp\n",
    "print(2)"
   ]
  },
  {
   "cell_type": "markdown",
   "id": "695aa2b0",
   "metadata": {},
   "source": [
    "# Cấu trúc rẽ nhánh "
   ]
  },
  {
   "cell_type": "markdown",
   "id": "7aabb40a",
   "metadata": {},
   "source": [
    "## if - elif - else"
   ]
  },
  {
   "cell_type": "code",
   "execution_count": null,
   "id": "3b0321ad",
   "metadata": {},
   "outputs": [],
   "source": [
    "# Viết tắt cấu trúc if - else\n",
    "\"abc\" if True else \"xyz\" # nếu True thì in ra \"abc\", nếu False thì in ra \"xyz\"\n",
    "\"abc\" or \"\" # có thể áp dụng toán tử logic\n",
    "\n",
    "# Viết tắt câu lệnh if 1 dòng\n",
    "if True: print(\"abc\")\n",
    "\n",
    "# if - elif - else (kiểm tra khoảng)\n",
    "x = 10\n",
    "if 0 <= x <= 100:\n",
    "    print(\"x nằm trong khoảng từ 0 đến 100\")\n",
    "elif 100 < x <= 200:\n",
    "    print(\"x nằm trong khoảng từ 100 đến 200\")\n",
    "else:\n",
    "    print(\"x không hợp lệ!\")"
   ]
  },
  {
   "cell_type": "markdown",
   "id": "09eb15bc",
   "metadata": {},
   "source": [
    "## Try except\n",
    "Thường dùng để bắt lỗi cho chương trình\n",
    "=> **Không cần dừng chương trình đang hoạt động**"
   ]
  },
  {
   "cell_type": "code",
   "execution_count": null,
   "id": "89a1b9c5",
   "metadata": {},
   "outputs": [],
   "source": [
    "# Kiểm tra kiểu dữ liệu nhập vào\n",
    "age = input(\"Nhập tuổi của bạn: \") # return kiểu str\n",
    "try:\n",
    "    age = int(age)  # Chuyển đổi sang kiểu int\n",
    "    if age < 0:\n",
    "        raise ValueError(\"Tuổi không thể là số âm\")\n",
    "except Exception as e:\n",
    "    print(f\"Lỗi: {e}\")\n",
    "finally: # Dòng này sẽ luôn chạy dù có lỗi hay không\n",
    "    print(\"Kết thúc chương trình kiểm tra tuổi.\")"
   ]
  },
  {
   "cell_type": "markdown",
   "id": "b31b6534",
   "metadata": {},
   "source": [
    "# Cấu trúc lặp "
   ]
  },
  {
   "cell_type": "markdown",
   "id": "4a5fe65e",
   "metadata": {},
   "source": [
    "## For (thường dùng với danh sách)"
   ]
  },
  {
   "cell_type": "markdown",
   "id": "30bb502f",
   "metadata": {},
   "source": [
    "**range(start, stop, step)**\n",
    "- range(stop): chạy từ 0 -> stop - 1, mỗi lần cộng dồn 1 đơn vị\n",
    "- range(start, stop): start -> stop - 1, mỗi lần cộng dồn 1 đơn vị\n",
    "- range(start, stop, step): start -> stop - 1, mỗi lần cộng dồn step đơn vị"
   ]
  },
  {
   "cell_type": "code",
   "execution_count": null,
   "id": "d2a4a535",
   "metadata": {},
   "outputs": [],
   "source": [
    "# Đếm ngược thời gian\n",
    "import time\n",
    "\n",
    "for sec in range(10, 0, -1):\n",
    "    print(sec)\n",
    "    time.sleep(1)  # Dừng 1 giây trước khi in ký tự tiếp theo\n",
    "print(\"Chúc mừng năm mới!\")"
   ]
  },
  {
   "cell_type": "code",
   "execution_count": null,
   "id": "2a748727",
   "metadata": {},
   "outputs": [],
   "source": [
    "# Duyệt phần tử trong danh sách\n",
    "fruits = [\"apple\", \"banana\", \"cherry\"]\n",
    "for index, value in enumerate(fruits):\n",
    "    print(f\"Phần tử thứ {index} là {value}\")"
   ]
  },
  {
   "cell_type": "markdown",
   "id": "49c8f3b4",
   "metadata": {},
   "source": [
    "## While\n",
    "Thường dùng cho các trường hợp **không xác định số lần lặp**"
   ]
  },
  {
   "cell_type": "code",
   "execution_count": null,
   "id": "b4115b22",
   "metadata": {},
   "outputs": [],
   "source": [
    "# Kiểm tra tính hợp lệ khi nhập dữ liệu\n",
    "age = int(input(\"Nhập tuổi của bạn (phải là số dương): \"))\n",
    "while age < 0:\n",
    "    print(\"Lỗi: Tuổi phải là số dương.\")\n",
    "    try:\n",
    "        age = int(input(\"Nhập tuổi của bạn (phải là số dương): \"))\n",
    "    except Exception as e:\n",
    "        print(f\"Lỗi: {e}\")\n",
    "        age = -1  # Đặt lại age để tiếp tục vòng lặp\n",
    "        \n",
    "print(f\"Tuổi của bạn là: {age}\")"
   ]
  }
 ],
 "metadata": {
  "kernelspec": {
   "display_name": "Python 3",
   "language": "python",
   "name": "python3"
  },
  "language_info": {
   "codemirror_mode": {
    "name": "ipython",
    "version": 3
   },
   "file_extension": ".py",
   "mimetype": "text/x-python",
   "name": "python",
   "nbconvert_exporter": "python",
   "pygments_lexer": "ipython3",
   "version": "3.13.2"
  }
 },
 "nbformat": 4,
 "nbformat_minor": 5
}
