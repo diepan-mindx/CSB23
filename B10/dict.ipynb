{
 "cells": [
  {
   "cell_type": "markdown",
   "id": "47fbcc8d",
   "metadata": {},
   "source": [
    "## Ánh xạ (mapping):\n",
    "- Sử dụng hàm: **map(func, iterable)**\n",
    "- Trả về kiểu dữ liệu **map** -> **ép về kiểu dữ liệu cũ** sau khi map"
   ]
  },
  {
   "cell_type": "code",
   "execution_count": null,
   "id": "d284df84",
   "metadata": {},
   "outputs": [
    {
     "ename": "ModuleNotFoundError",
     "evalue": "No module named 'faker'",
     "output_type": "error",
     "traceback": [
      "\u001b[1;31m---------------------------------------------------------------------------\u001b[0m",
      "\u001b[1;31mModuleNotFoundError\u001b[0m                       Traceback (most recent call last)",
      "Cell \u001b[1;32mIn[12], line 2\u001b[0m\n\u001b[0;32m      1\u001b[0m \u001b[38;5;66;03m# Cho danh sách họ và tên -> xuất ra danh sách chỉ lấy tên\u001b[39;00m\n\u001b[1;32m----> 2\u001b[0m \u001b[38;5;28;01mfrom\u001b[39;00m\u001b[38;5;250m \u001b[39m\u001b[38;5;21;01mfaker\u001b[39;00m\u001b[38;5;250m \u001b[39m\u001b[38;5;28;01mimport\u001b[39;00m Faker\n\u001b[0;32m      3\u001b[0m fake \u001b[38;5;241m=\u001b[39m Faker()\n\u001b[0;32m      4\u001b[0m name_list \u001b[38;5;241m=\u001b[39m [ fake\u001b[38;5;241m.\u001b[39mname() \u001b[38;5;28;01mfor\u001b[39;00m _ \u001b[38;5;129;01min\u001b[39;00m \u001b[38;5;28mrange\u001b[39m(\u001b[38;5;241m20\u001b[39m)]\n",
      "\u001b[1;31mModuleNotFoundError\u001b[0m: No module named 'faker'"
     ]
    }
   ],
   "source": [
    "# Cho danh sách họ và tên -> xuất ra danh sách chỉ lấy tên\n",
    "from faker import Faker\n",
    "fake = Faker()\n",
    "name_list = [ fake.name() for _ in range(20)]\n",
    "name_list"
   ]
  },
  {
   "cell_type": "code",
   "execution_count": 14,
   "id": "775b9913",
   "metadata": {},
   "outputs": [],
   "source": [
    "names = [\n",
    "    \"Emma Johnson\",\n",
    "    \"Liam Smith\",\n",
    "    \"Olivia Brown\",\n",
    "    \"Noah Garcia\",\n",
    "    \"Ava Martinez\",\n",
    "    \"Elijah Davis\",\n",
    "    \"Sophia Taylor\",\n",
    "    \"James Miller\",\n",
    "    \"Isabella Wilson\",\n",
    "    \"Benjamin Anderson\",\n",
    "    \"Mia Thomas\",\n",
    "    \"Lucas Moore\",\n",
    "    \"Charlotte Martin\",\n",
    "    \"Henry Lee\",\n",
    "    \"Amelia White\",\n",
    "    \"Alexander Harris\",\n",
    "    \"Harper Clark\",\n",
    "    \"Ethan Lewis\",\n",
    "    \"Evelyn Young\",\n",
    "    \"William Hall\",\n",
    "]"
   ]
  },
  {
   "cell_type": "code",
   "execution_count": null,
   "id": "70a6fa1e",
   "metadata": {},
   "outputs": [],
   "source": [
    "first_name = map(lambda fullName: fullName.split()[0].upper(), names)\n",
    "print(list(first_name)) "
   ]
  },
  {
   "cell_type": "markdown",
   "id": "ec71845a",
   "metadata": {},
   "source": [
    "## Dictionary:\n",
    "- Sử dụng cơ chế mapping: **key** (string) -> **value** (bat ki)\n",
    "- **Không** có chỉ số **index**\n",
    "- **Key là duy nhất** (không trùng lặp key)"
   ]
  },
  {
   "cell_type": "code",
   "execution_count": 24,
   "id": "62acbc85",
   "metadata": {},
   "outputs": [],
   "source": [
    "# khai báo\n",
    "dict1 = {}\n",
    "dict2 = dict()\n",
    "student_obj = {\"id\": 1, \"name\": \"John\"}"
   ]
  },
  {
   "cell_type": "code",
   "execution_count": null,
   "id": "4f0f2c8e",
   "metadata": {},
   "outputs": [],
   "source": [
    "# truy xuất\n",
    "print(\"Student's name: \", student_obj[\"name\"])\n",
    "print(\"Student's id: \", student_obj.get(\"id\"))"
   ]
  },
  {
   "cell_type": "code",
   "execution_count": null,
   "id": "29444697",
   "metadata": {},
   "outputs": [],
   "source": [
    "# thêm/ cập nhật\n",
    "student_obj[\"age\"] = 20\n",
    "student_obj[\"name\"] = \"new name\" # nếu để trùng key cũ -> cập nhật\n",
    "student_obj"
   ]
  },
  {
   "cell_type": "code",
   "execution_count": null,
   "id": "34a43543",
   "metadata": {},
   "outputs": [],
   "source": [
    "# xóa\n",
    "del student_obj[\"age\"]\n",
    "student_obj"
   ]
  }
 ],
 "metadata": {
  "kernelspec": {
   "display_name": "Python 3",
   "language": "python",
   "name": "python3"
  },
  "language_info": {
   "codemirror_mode": {
    "name": "ipython",
    "version": 3
   },
   "file_extension": ".py",
   "mimetype": "text/x-python",
   "name": "python",
   "nbconvert_exporter": "python",
   "pygments_lexer": "ipython3",
   "version": "3.13.2"
  }
 },
 "nbformat": 4,
 "nbformat_minor": 5
}
