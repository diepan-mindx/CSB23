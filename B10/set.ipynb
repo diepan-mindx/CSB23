{
 "cells": [
  {
   "cell_type": "markdown",
   "id": "0b49f3cd",
   "metadata": {},
   "source": [
    "## Đặc điểm:\n",
    "- **Không trùng lặp** phần tử\n",
    "- Phần tử **không có thứ tự**\n",
    "- Có thể thay đổi (**mutable**)"
   ]
  },
  {
   "cell_type": "code",
   "execution_count": null,
   "id": "cd60692a",
   "metadata": {},
   "outputs": [],
   "source": [
    "# khai báo\n",
    "set1 = {} # set rỗng -> không khai báo có {} -> set()\n",
    "print(type(set1))\n",
    "set2 = {\"s\", \"b\", \"m\", \"s\"} # khong trung lap\n",
    "print(set2)"
   ]
  },
  {
   "cell_type": "code",
   "execution_count": null,
   "id": "e2e37b38",
   "metadata": {},
   "outputs": [],
   "source": [
    "# truy cập phần tử (for in)\n",
    "for item in set2:\n",
    "    print(item)"
   ]
  },
  {
   "cell_type": "code",
   "execution_count": null,
   "id": "a93e0275",
   "metadata": {},
   "outputs": [],
   "source": [
    "# thêm\n",
    "set2.add(\"new\")\n",
    "print(set2)\n",
    "\n",
    "set2.update({\"new1\", \"new2\"}) # tham so: la 1 danh sach \n",
    "print(set2)"
   ]
  },
  {
   "cell_type": "code",
   "execution_count": null,
   "id": "893cd6f6",
   "metadata": {},
   "outputs": [],
   "source": [
    "# xóa (dựa vào giá trị của phần tử)\n",
    "set2.remove(\"apple\") # khong co -> BAO LOI\n",
    "\n",
    "set2.discard(\"apple\") # khong co -> khong bao loi"
   ]
  },
  {
   "cell_type": "markdown",
   "id": "e9862bc1",
   "metadata": {},
   "source": [
    "## Phép toán:"
   ]
  },
  {
   "cell_type": "markdown",
   "id": "114946b1",
   "metadata": {},
   "source": [
    "### Phép hợp (union):\n",
    "- Phép **cộng** 2 set\n",
    "- sử dụng hàm: **set.union(set)**\n",
    "- Hoặc sử dụng toán tử `|` (or)\n",
    "- **Trả về 1 mảng mới** chứa tất cả các phần tử của 2 mảng ban đầu."
   ]
  },
  {
   "cell_type": "code",
   "execution_count": null,
   "id": "976bbb4b",
   "metadata": {},
   "outputs": [],
   "source": [
    "back_end = {\"nodejs\", \"spring\", \"flask\", \"nextjs\"}\n",
    "front_end = {\"nextjs\", \"nodejs\", \"react\", \"angular\"}\n",
    "print(f\"Skills need to learned: {back_end | front_end}\")\n",
    "print(f\"Skills need to learned: {back_end.union(front_end)}\")"
   ]
  },
  {
   "cell_type": "markdown",
   "id": "6351df92",
   "metadata": {},
   "source": [
    "### Phép giao (intersection):\n",
    "- Lấy **phần tử có ở cả 2** set.\n",
    "- sử dụng hàm: **set.intersection(set)**\n",
    "- Hoặc sử dụng toán tử `&` (and)\n",
    "- **Trả về 1 mảng mới** chứa tất cả các phần tử của 2 mảng ban đầu."
   ]
  },
  {
   "cell_type": "code",
   "execution_count": null,
   "id": "04b790ca",
   "metadata": {},
   "outputs": [],
   "source": [
    "print(f\"Skills have in both parts: {back_end & front_end}\")\n",
    "print(f\"Skills have in both parts: {back_end.intersection(front_end)}\")"
   ]
  },
  {
   "cell_type": "markdown",
   "id": "4bf42dc7",
   "metadata": {},
   "source": [
    "### Phép hiệu (subtraction):\n",
    "- **Lấy phần tử của mảng trừ** (A) (không lấy phần tử trùng trong mảng B)\n",
    "- sử dụng hàm: **set.difference(set)**\n",
    "- Hoặc sử dụng toán tử `-` (sub)\n",
    "- **Trả về 1 mảng mới** chứa tất cả các phần tử của 2 mảng ban đầu."
   ]
  },
  {
   "cell_type": "code",
   "execution_count": null,
   "id": "1963357b",
   "metadata": {},
   "outputs": [],
   "source": [
    "print(f\"Only back_end skills: {back_end - front_end}\")\n",
    "print(f\"Only front_end skills: {front_end.difference(back_end)}\")"
   ]
  }
 ],
 "metadata": {
  "kernelspec": {
   "display_name": "Python 3",
   "language": "python",
   "name": "python3"
  },
  "language_info": {
   "codemirror_mode": {
    "name": "ipython",
    "version": 3
   },
   "file_extension": ".py",
   "mimetype": "text/x-python",
   "name": "python",
   "nbconvert_exporter": "python",
   "pygments_lexer": "ipython3",
   "version": "3.13.2"
  }
 },
 "nbformat": 4,
 "nbformat_minor": 5
}
