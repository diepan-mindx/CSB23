{
 "cells": [
  {
   "cell_type": "markdown",
   "id": "0c5e5905",
   "metadata": {},
   "source": [
    "- OOP: class (bản vẽ): quy định **thuộc tính** + **phương thức** cho object (bản sao)\n",
    "- Mỗi class đều bắt buộc có 1 def __init__(hàm khởi tạo) \n",
    "- Tên class **viết hoa chữ đầu**.\n",
    "- **4 Tính chất**:\n",
    "  - Kế thừa\n",
    "  - Đóng gói\n",
    "  - Trừu tượng\n",
    "  - Đa hình\n",
    "- *Note: mỗi class được tạo ra, **mặc định được kế thừa từ class Object** trong thư viện Python*\n",
    "    - Nếu không khai báo hàm khởi tạo -> chương trình sẽ lấy init mặc định từ Object"
   ]
  },
  {
   "cell_type": "code",
   "execution_count": null,
   "id": "de7cb744",
   "metadata": {},
   "outputs": [],
   "source": [
    "# Tạo class Animal: age, sound, name, hàm speak in ra tiếng kêu, hàm action\n",
    "# Tạo class Dog, Duck, Bird: chỉnh sửa lại hàm str để có thể in ra thông tin của các con vật\n",
    "# Mỗi con vật có action riêng"
   ]
  },
  {
   "cell_type": "code",
   "execution_count": 5,
   "id": "738352ad",
   "metadata": {},
   "outputs": [],
   "source": [
    "class Animal:\n",
    "    # ham khoi tao (nhung thuoc tinh can nguoi dung truyen vao)\n",
    "    def __init__(self, name:str, age:int, sound:str):\n",
    "        # __prop: private\n",
    "        self.__name = name\n",
    "        self.__age = age\n",
    "        self.__sound = sound\n",
    "        \n",
    "    # getter/ setter (tinh dong goi)\n",
    "    def getName(self):\n",
    "        return self.__name\n",
    "    def setName(self, name):\n",
    "        self.__name = name\n",
    "    def getAge(self):\n",
    "        return self.__age\n",
    "    def setAge(self, age):\n",
    "        self.__age = age\n",
    "    \n",
    "    # tinh da hinh\n",
    "    def speak(self):\n",
    "        return self.name + \" speaks \" + self.__sound\n",
    "    \n",
    "    # tinh truu tuong\n",
    "    def action(self):..."
   ]
  },
  {
   "cell_type": "code",
   "execution_count": 7,
   "id": "e19e3de3",
   "metadata": {},
   "outputs": [],
   "source": [
    "# tinh ke thua\n",
    "class Bird(Animal):\n",
    "    def __init__ (self, name, age):\n",
    "        # lay code tu init lop cha\n",
    "        super().__init__(name, age, \"chip\")\n",
    "    \n",
    "    def action(self):\n",
    "        print(\"Chim bay\")\n",
    "        \n",
    "    def __str__(self):\n",
    "        # ghi de code cu -> tinh da hinh\n",
    "        return \"Bird: \" + self.__name\n",
    "    \n",
    "class Dog(Animal):\n",
    "    def __init__ (self, name, age):\n",
    "        # lay code tu init lop cha\n",
    "        super().__init__(name, age, \"woof\")\n",
    "    \n",
    "    def action(self):\n",
    "        print(\"Cun chay\")\n",
    "        \n",
    "    def __str__(self):\n",
    "        # ghi de code cu -> tinh da hinh\n",
    "        return \"Dog: \" + self.__name\n",
    "    \n",
    "class Duck(Animal):\n",
    "    def __init__ (self, name, age):\n",
    "        # lay code tu init lop cha\n",
    "        super().__init__(name, age, \"quack\")\n",
    "    \n",
    "    def action(self):\n",
    "        print(\"Vit boi\")\n",
    "        \n",
    "    def __str__(self):\n",
    "        # ghi de code cu -> tinh da hinh\n",
    "        return \"Duck: \" + self.__name"
   ]
  },
  {
   "cell_type": "code",
   "execution_count": null,
   "id": "e6d23c01",
   "metadata": {},
   "outputs": [
    {
     "ename": "AttributeError",
     "evalue": "'Dog' object has no attribute '_Dog__name'",
     "output_type": "error",
     "traceback": [
      "\u001b[1;31m---------------------------------------------------------------------------\u001b[0m",
      "\u001b[1;31mAttributeError\u001b[0m                            Traceback (most recent call last)",
      "Cell \u001b[1;32mIn[8], line 5\u001b[0m\n\u001b[0;32m      3\u001b[0m \u001b[38;5;66;03m# sua ten => goi ham setName (tinh ke thua)\u001b[39;00m\n\u001b[0;32m      4\u001b[0m dog1\u001b[38;5;241m.\u001b[39msetName(\u001b[38;5;124m\"\u001b[39m\u001b[38;5;124mBella\u001b[39m\u001b[38;5;124m\"\u001b[39m)\n\u001b[1;32m----> 5\u001b[0m \u001b[38;5;28mprint\u001b[39m(\u001b[43mdog1\u001b[49m\u001b[38;5;241;43m.\u001b[39;49m\u001b[38;5;21;43m__str__\u001b[39;49m\u001b[43m(\u001b[49m\u001b[43m)\u001b[49m)\n",
      "Cell \u001b[1;32mIn[7], line 24\u001b[0m, in \u001b[0;36mDog.__str__\u001b[1;34m(self)\u001b[0m\n\u001b[0;32m     22\u001b[0m \u001b[38;5;28;01mdef\u001b[39;00m\u001b[38;5;250m \u001b[39m\u001b[38;5;21m__str__\u001b[39m(\u001b[38;5;28mself\u001b[39m):\n\u001b[0;32m     23\u001b[0m     \u001b[38;5;66;03m# ghi de code cu -> tinh da hinh\u001b[39;00m\n\u001b[1;32m---> 24\u001b[0m     \u001b[38;5;28;01mreturn\u001b[39;00m \u001b[38;5;124m\"\u001b[39m\u001b[38;5;124mDog: \u001b[39m\u001b[38;5;124m\"\u001b[39m \u001b[38;5;241m+\u001b[39m \u001b[38;5;28;43mself\u001b[39;49m\u001b[38;5;241;43m.\u001b[39;49m\u001b[43m__name\u001b[49m\n",
      "\u001b[1;31mAttributeError\u001b[0m: 'Dog' object has no attribute '_Dog__name'"
     ]
    }
   ],
   "source": [
    "# test\n",
    "# dog1 = Dog(\"\", 10)\n",
    "# # sua ten => goi ham setName (tinh ke thua)\n",
    "# dog1.setName(\"Bella\")\n",
    "# print(dog1.__str__())"
   ]
  }
 ],
 "metadata": {
  "kernelspec": {
   "display_name": "Python 3",
   "language": "python",
   "name": "python3"
  },
  "language_info": {
   "codemirror_mode": {
    "name": "ipython",
    "version": 3
   },
   "file_extension": ".py",
   "mimetype": "text/x-python",
   "name": "python",
   "nbconvert_exporter": "python",
   "pygments_lexer": "ipython3",
   "version": "3.13.2"
  }
 },
 "nbformat": 4,
 "nbformat_minor": 5
}
